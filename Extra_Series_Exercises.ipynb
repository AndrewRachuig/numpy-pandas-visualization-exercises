{
 "cells": [
  {
   "cell_type": "markdown",
   "id": "d2cc6e32",
   "metadata": {},
   "source": [
    "## More Practice\n",
    "\n",
    "Revisit the exercises from [https://gist.github.com/ryanorsinger/f7d7c1dd6a328730c04f3dc5c5c69f3a](https://gist.github.com/ryanorsinger/f7d7c1dd6a328730c04f3dc5c5c69f3a). \n",
    "\n",
    "After you complete each set of Series exercises, use any extra time you have to pursue the challenge below. You can work on these in the same notebook or file as the Series exercises or create a new practice notebook you can work in a little every day to keep your python and pandas skills sharp by trying to solve problems in multiple ways. *These are not a part of the Series exercises grade, so don't worry if it takes you days or weeks to meet the challenge.*\n",
    "\n",
    "**Challenge yourself to be able A...**\n",
    "\n",
    "- solve each using vanilla python.\n",
    "    \n",
    "- solve each using list comprehensions.\n",
    "    \n",
    "- solve each by using a pandas Series for the data structure instead of lists and using vectorized operations instead of loops and list comprehensions."
   ]
  },
  {
   "cell_type": "code",
   "execution_count": 1,
   "id": "6aab2738",
   "metadata": {},
   "outputs": [],
   "source": [
    "import pandas as pd\n",
    "import numpy as np\n",
    "\n",
    "# From the above list comprehension practice \n",
    "\n",
    "fruits = ['mango', 'kiwi', 'strawberry', 'guava', 'pineapple', 'mandarin orange']\n",
    "\n",
    "numbers = [2, 3, 4, 5, 6, 7, 8, 9, 10, 11, 13, 17, 19, 23, 256, -8, -4, -2, 5, -9]"
   ]
  },
  {
   "cell_type": "code",
   "execution_count": 2,
   "id": "23c86bdb",
   "metadata": {},
   "outputs": [
    {
     "name": "stdout",
     "output_type": "stream",
     "text": [
      "['MANGO', 'KIWI', 'STRAWBERRY', 'GUAVA', 'PINEAPPLE', 'MANDARIN ORANGE']\n",
      "['MANGO', 'KIWI', 'STRAWBERRY', 'GUAVA', 'PINEAPPLE', 'MANDARIN ORANGE']\n",
      "['MANGO' 'KIWI' 'STRAWBERRY' 'GUAVA' 'PINEAPPLE' 'MANDARIN ORANGE']\n"
     ]
    }
   ],
   "source": [
    "# Exercise 1 - rewrite the above example code using list comprehension syntax. Make a variable named uppercased_fruits to hold the output of the list comprehension. Output should be ['MANGO', 'KIWI', etc...]\n",
    "\n",
    "#Vanilla Python\n",
    "van_upper_fruits = []\n",
    "for x in fruits:\n",
    "    van_upper_fruits.append(x.upper())\n",
    "    \n",
    "print(van_upper_fruits)\n",
    "\n",
    "#List Comprehension\n",
    "lc_upper_fruits = [x.upper() for x in fruits]\n",
    "\n",
    "print(lc_upper_fruits)\n",
    "\n",
    "#Pandas Series, vectorized operations\n",
    "pd_upper_fruits = pd.Series(fruits)\n",
    "pd_upper_fruits = pd_upper_fruits.str.upper()\n",
    "print(pd_upper_fruits.values)\n"
   ]
  },
  {
   "cell_type": "code",
   "execution_count": 3,
   "id": "11cb818f",
   "metadata": {},
   "outputs": [
    {
     "name": "stdout",
     "output_type": "stream",
     "text": [
      "['Mango', 'Kiwi', 'Strawberry', 'Guava', 'Pineapple', 'Mandarin Orange']\n",
      "['Mango', 'Kiwi', 'Strawberry', 'Guava', 'Pineapple', 'Mandarin Orange']\n",
      "['Mango' 'Kiwi' 'Strawberry' 'Guava' 'Pineapple' 'Mandarin Orange']\n"
     ]
    }
   ],
   "source": [
    "# Exercise 2 - create a variable named capitalized_fruits and use list comprehension syntax to produce output like ['Mango', 'Kiwi', 'Strawberry', etc...]\n",
    "\n",
    "#Vanilla Python\n",
    "van_cap_fruits = []\n",
    "for x in fruits:\n",
    "    van_cap_fruits.append(x.title())\n",
    "    \n",
    "print(van_cap_fruits)\n",
    "\n",
    "#List Comprehension\n",
    "lc_cap_fruits = [x.title() for x in fruits]\n",
    "\n",
    "print(lc_cap_fruits)\n",
    "\n",
    "#Pandas Series, vectorized operations\n",
    "pd_cap_fruits = pd.Series(fruits)\n",
    "pd_cap_fruits = pd_cap_fruits.str.title()\n",
    "print(pd_cap_fruits.values)\n"
   ]
  },
  {
   "cell_type": "code",
   "execution_count": 4,
   "id": "56a4df25",
   "metadata": {},
   "outputs": [
    {
     "name": "stdout",
     "output_type": "stream",
     "text": [
      "['guava', 'pineapple', 'mandarin orange']\n",
      "['guava', 'pineapple', 'mandarin orange']\n",
      "['guava' 'pineapple' 'mandarin orange']\n"
     ]
    }
   ],
   "source": [
    "# Exercise 3 - Use a list comprehension to make a variable named fruits_with_more_than_two_vowels. Hint: You'll need a way to check if something is a vowel.\n",
    "\n",
    "def isvowel(x):\n",
    "    vowel_count = 0\n",
    "    for letter in x:\n",
    "        if letter in ('aeiou'):\n",
    "            vowel_count += 1\n",
    "    return vowel_count\n",
    "\n",
    "#Vanilla Python\n",
    "van_morethan2 = []\n",
    "\n",
    "for fruit in fruits:\n",
    "    vowel = 0\n",
    "    for letter in fruit:\n",
    "        if letter in 'aeiou':\n",
    "            vowel += 1\n",
    "    if vowel > 2:\n",
    "        van_morethan2.append(fruit)\n",
    "\n",
    "print(van_morethan2)\n",
    "#List Comprehension\n",
    "lc_morethan2 = [x for x in fruits if isvowel(x) > 2]\n",
    "\n",
    "print(lc_morethan2)\n",
    "\n",
    "#Pandas Series, vectorized operations\n",
    "pd_morethan2 = pd.Series(fruits)\n",
    "print(pd_morethan2[pd_morethan2.apply(isvowel) > 2].values)\n"
   ]
  },
  {
   "cell_type": "code",
   "execution_count": 5,
   "id": "4f363549",
   "metadata": {},
   "outputs": [
    {
     "name": "stdout",
     "output_type": "stream",
     "text": [
      "['mango', 'kiwi', 'strawberry']\n",
      "['mango', 'kiwi', 'strawberry']\n",
      "['mango' 'kiwi' 'strawberry']\n"
     ]
    }
   ],
   "source": [
    "# Exercise 4 - make a variable named fruits_with_only_two_vowels. The result should be ['mango', 'kiwi', 'strawberry']\n",
    "\n",
    "#Vanilla Python\n",
    "van_only2 = []\n",
    "\n",
    "for fruit in fruits:\n",
    "    vowel = 0\n",
    "    for letter in fruit:\n",
    "        if letter in 'aeiou':\n",
    "            vowel += 1\n",
    "    if vowel == 2:\n",
    "        van_only2.append(fruit)\n",
    "\n",
    "print(van_only2)\n",
    "\n",
    "#List Comprehension\n",
    "lc_only2 = [x for x in fruits if isvowel(x) == 2]\n",
    "\n",
    "print(lc_only2)\n",
    "\n",
    "#Pandas Series, vectorized operations\n",
    "pd_only2 = pd.Series(fruits)\n",
    "print(pd_only2[pd_only2.apply(isvowel) == 2].values)"
   ]
  },
  {
   "cell_type": "code",
   "execution_count": 6,
   "id": "4e89aa7f",
   "metadata": {},
   "outputs": [
    {
     "name": "stdout",
     "output_type": "stream",
     "text": [
      "['strawberry', 'pineapple', 'mandarin orange']\n",
      "['strawberry', 'pineapple', 'mandarin orange']\n",
      "['strawberry' 'pineapple' 'mandarin orange']\n"
     ]
    }
   ],
   "source": [
    "# Exercise 5 - make a list that contains each fruit with more than 5 characters\n",
    "\n",
    "#Vanilla Python\n",
    "van_morethan5 = []\n",
    "\n",
    "for fruit in fruits:\n",
    "    if len(fruit) > 5:\n",
    "        van_morethan5.append(fruit)\n",
    "\n",
    "print(van_morethan5)\n",
    "\n",
    "#List Comprehension\n",
    "lc_morethan5 = [x for x in fruits if len(x) > 5]\n",
    "\n",
    "print(lc_morethan5)\n",
    "\n",
    "#Pandas Series, vectorized operations\n",
    "pd_morethan5 = pd.Series(fruits)\n",
    "print(pd_morethan5[pd_morethan5.str.len() > 5].values)"
   ]
  },
  {
   "cell_type": "code",
   "execution_count": 7,
   "id": "064b110c",
   "metadata": {},
   "outputs": [],
   "source": [
    "# Exercise 6 - make a list that contains each fruit with exactly 5 characters\n",
    "\n",
    "#Vanilla Python\n",
    "\n",
    "#List Comprehension\n",
    "\n",
    "#Pandas Series, vectorized operations"
   ]
  },
  {
   "cell_type": "code",
   "execution_count": 8,
   "id": "95b11663",
   "metadata": {},
   "outputs": [],
   "source": [
    "# Exercise 7 - Make a list that contains fruits that have less than 5 characters\n",
    "\n",
    "#Vanilla Python\n",
    "\n",
    "#List Comprehension\n",
    "\n",
    "#Pandas Series, vectorized operations"
   ]
  },
  {
   "cell_type": "code",
   "execution_count": 9,
   "id": "5374f7dc",
   "metadata": {},
   "outputs": [],
   "source": [
    "# Exercise 8 - Make a list containing the number of characters in each fruit. Output would be [5, 4, 10, etc... ]\n",
    "\n",
    "#Vanilla Python\n",
    "\n",
    "#List Comprehension\n",
    "\n",
    "#Pandas Series, vectorized operations"
   ]
  },
  {
   "cell_type": "code",
   "execution_count": 10,
   "id": "329e11d0",
   "metadata": {},
   "outputs": [],
   "source": [
    "# Exercise 9 - Make a variable named fruits_with_letter_a that contains a list of only the fruits that contain the letter \"a\"\n",
    "\n",
    "#Vanilla Python\n",
    "\n",
    "#List Comprehension\n",
    "\n",
    "#Pandas Series, vectorized operations"
   ]
  },
  {
   "cell_type": "code",
   "execution_count": 11,
   "id": "60a9bd54",
   "metadata": {},
   "outputs": [],
   "source": [
    "# Exercise 10 - Make a variable named even_numbers that holds only the even numbers \n",
    "\n",
    "#Vanilla Python\n",
    "\n",
    "#List Comprehension\n",
    "\n",
    "#Pandas Series, vectorized operations"
   ]
  },
  {
   "cell_type": "code",
   "execution_count": 12,
   "id": "792949e3",
   "metadata": {},
   "outputs": [],
   "source": [
    "# Exercise 11 - Make a variable named odd_numbers that holds only the odd numbers\n",
    "\n",
    "#Vanilla Python\n",
    "\n",
    "#List Comprehension\n",
    "\n",
    "#Pandas Series, vectorized operations"
   ]
  },
  {
   "cell_type": "code",
   "execution_count": 13,
   "id": "c0d1e6f8",
   "metadata": {},
   "outputs": [],
   "source": [
    "# Exercise 12 - Make a variable named positive_numbers that holds only the positive numbers\n",
    "\n",
    "#Vanilla Python\n",
    "\n",
    "#List Comprehension\n",
    "\n",
    "#Pandas Series, vectorized operations"
   ]
  },
  {
   "cell_type": "code",
   "execution_count": 14,
   "id": "2ddeb850",
   "metadata": {},
   "outputs": [],
   "source": [
    "# Exercise 13 - Make a variable named negative_numbers that holds only the negative numbers\n",
    "\n",
    "#Vanilla Python\n",
    "\n",
    "#List Comprehension\n",
    "\n",
    "#Pandas Series, vectorized operations"
   ]
  },
  {
   "cell_type": "code",
   "execution_count": 15,
   "id": "277af8b6",
   "metadata": {},
   "outputs": [],
   "source": [
    "# Exercise 14 - use a list comprehension w/ a conditional in order to produce a list of numbers with 2 or more numerals\n",
    "\n",
    "#Vanilla Python\n",
    "\n",
    "#List Comprehension\n",
    "\n",
    "#Pandas Series, vectorized operations"
   ]
  },
  {
   "cell_type": "code",
   "execution_count": 16,
   "id": "fe8af7d5",
   "metadata": {},
   "outputs": [],
   "source": [
    "# Exercise 15 - Make a variable named numbers_squared that contains the numbers list with each element squared. Output is [4, 9, 16, etc...]\n",
    "\n",
    "#Vanilla Python\n",
    "\n",
    "#List Comprehension\n",
    "\n",
    "#Pandas Series, vectorized operations"
   ]
  },
  {
   "cell_type": "code",
   "execution_count": 17,
   "id": "3325e11b",
   "metadata": {},
   "outputs": [],
   "source": [
    "# Exercise 16 - Make a variable named odd_negative_numbers that contains only the numbers that are both odd and negative.\n",
    "\n",
    "#Vanilla Python\n",
    "\n",
    "#List Comprehension\n",
    "\n",
    "#Pandas Series, vectorized operations"
   ]
  },
  {
   "cell_type": "code",
   "execution_count": 18,
   "id": "ef182246",
   "metadata": {},
   "outputs": [],
   "source": [
    "# Exercise 17 - Make a variable named numbers_plus_5. In it, return a list containing each number plus five. \n",
    "\n",
    "#Vanilla Python\n",
    "\n",
    "#List Comprehension\n",
    "\n",
    "#Pandas Series, vectorized operations"
   ]
  },
  {
   "cell_type": "code",
   "execution_count": 19,
   "id": "e42e33ab",
   "metadata": {},
   "outputs": [],
   "source": [
    "# BONUS Make a variable named \"primes\" that is a list containing the prime numbers in the numbers list. *Hint* you may want to make or find a helper function that determines if a given number is prime or not.\n",
    "\n",
    "#Vanilla Python\n",
    "\n",
    "#List Comprehension\n",
    "\n",
    "#Pandas Series, vectorized operations"
   ]
  }
 ],
 "metadata": {
  "kernelspec": {
   "display_name": "Python 3 (ipykernel)",
   "language": "python",
   "name": "python3"
  },
  "language_info": {
   "codemirror_mode": {
    "name": "ipython",
    "version": 3
   },
   "file_extension": ".py",
   "mimetype": "text/x-python",
   "name": "python",
   "nbconvert_exporter": "python",
   "pygments_lexer": "ipython3",
   "version": "3.9.7"
  }
 },
 "nbformat": 4,
 "nbformat_minor": 5
}
